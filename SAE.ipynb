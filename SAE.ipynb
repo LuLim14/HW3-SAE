{
  "nbformat": 4,
  "nbformat_minor": 0,
  "metadata": {
    "colab": {
      "provenance": []
    },
    "kernelspec": {
      "name": "python3",
      "display_name": "Python 3"
    },
    "language_info": {
      "name": "python"
    },
    "widgets": {
      "application/vnd.jupyter.widget-state+json": {
        "228eaac3508542fcaccabfe6ebc831be": {
          "model_module": "@jupyter-widgets/controls",
          "model_name": "HBoxModel",
          "model_module_version": "1.5.0",
          "state": {
            "_dom_classes": [],
            "_model_module": "@jupyter-widgets/controls",
            "_model_module_version": "1.5.0",
            "_model_name": "HBoxModel",
            "_view_count": null,
            "_view_module": "@jupyter-widgets/controls",
            "_view_module_version": "1.5.0",
            "_view_name": "HBoxView",
            "box_style": "",
            "children": [
              "IPY_MODEL_7088b748838d4709801451b34f7afd03",
              "IPY_MODEL_d2a7cd66d6fb469aace18b01e3072b35",
              "IPY_MODEL_e1c7e3ea873a4629904d4a7f665fba5f"
            ],
            "layout": "IPY_MODEL_63c89b764c014efabbcd25b13c6b3db2"
          }
        },
        "7088b748838d4709801451b34f7afd03": {
          "model_module": "@jupyter-widgets/controls",
          "model_name": "HTMLModel",
          "model_module_version": "1.5.0",
          "state": {
            "_dom_classes": [],
            "_model_module": "@jupyter-widgets/controls",
            "_model_module_version": "1.5.0",
            "_model_name": "HTMLModel",
            "_view_count": null,
            "_view_module": "@jupyter-widgets/controls",
            "_view_module_version": "1.5.0",
            "_view_name": "HTMLView",
            "description": "",
            "description_tooltip": null,
            "layout": "IPY_MODEL_fa65b5074e6a41e8bc7d588f62de6398",
            "placeholder": "​",
            "style": "IPY_MODEL_bd3475914a4248a5ae3cde1f8e876465",
            "value": "Loading checkpoint shards: 100%"
          }
        },
        "d2a7cd66d6fb469aace18b01e3072b35": {
          "model_module": "@jupyter-widgets/controls",
          "model_name": "FloatProgressModel",
          "model_module_version": "1.5.0",
          "state": {
            "_dom_classes": [],
            "_model_module": "@jupyter-widgets/controls",
            "_model_module_version": "1.5.0",
            "_model_name": "FloatProgressModel",
            "_view_count": null,
            "_view_module": "@jupyter-widgets/controls",
            "_view_module_version": "1.5.0",
            "_view_name": "ProgressView",
            "bar_style": "success",
            "description": "",
            "description_tooltip": null,
            "layout": "IPY_MODEL_e9db6591f39940e6a396d3fbed273b4a",
            "max": 3,
            "min": 0,
            "orientation": "horizontal",
            "style": "IPY_MODEL_cc35651421fd4898b4ed027db6dd86e1",
            "value": 3
          }
        },
        "e1c7e3ea873a4629904d4a7f665fba5f": {
          "model_module": "@jupyter-widgets/controls",
          "model_name": "HTMLModel",
          "model_module_version": "1.5.0",
          "state": {
            "_dom_classes": [],
            "_model_module": "@jupyter-widgets/controls",
            "_model_module_version": "1.5.0",
            "_model_name": "HTMLModel",
            "_view_count": null,
            "_view_module": "@jupyter-widgets/controls",
            "_view_module_version": "1.5.0",
            "_view_name": "HTMLView",
            "description": "",
            "description_tooltip": null,
            "layout": "IPY_MODEL_6f5a6d46bd004f7ab38ad33f21cc79fa",
            "placeholder": "​",
            "style": "IPY_MODEL_6f21a417cbff4f708b38ba7c7a13d7b9",
            "value": " 3/3 [00:38&lt;00:00, 10.86s/it]"
          }
        },
        "63c89b764c014efabbcd25b13c6b3db2": {
          "model_module": "@jupyter-widgets/base",
          "model_name": "LayoutModel",
          "model_module_version": "1.2.0",
          "state": {
            "_model_module": "@jupyter-widgets/base",
            "_model_module_version": "1.2.0",
            "_model_name": "LayoutModel",
            "_view_count": null,
            "_view_module": "@jupyter-widgets/base",
            "_view_module_version": "1.2.0",
            "_view_name": "LayoutView",
            "align_content": null,
            "align_items": null,
            "align_self": null,
            "border": null,
            "bottom": null,
            "display": null,
            "flex": null,
            "flex_flow": null,
            "grid_area": null,
            "grid_auto_columns": null,
            "grid_auto_flow": null,
            "grid_auto_rows": null,
            "grid_column": null,
            "grid_gap": null,
            "grid_row": null,
            "grid_template_areas": null,
            "grid_template_columns": null,
            "grid_template_rows": null,
            "height": null,
            "justify_content": null,
            "justify_items": null,
            "left": null,
            "margin": null,
            "max_height": null,
            "max_width": null,
            "min_height": null,
            "min_width": null,
            "object_fit": null,
            "object_position": null,
            "order": null,
            "overflow": null,
            "overflow_x": null,
            "overflow_y": null,
            "padding": null,
            "right": null,
            "top": null,
            "visibility": null,
            "width": null
          }
        },
        "fa65b5074e6a41e8bc7d588f62de6398": {
          "model_module": "@jupyter-widgets/base",
          "model_name": "LayoutModel",
          "model_module_version": "1.2.0",
          "state": {
            "_model_module": "@jupyter-widgets/base",
            "_model_module_version": "1.2.0",
            "_model_name": "LayoutModel",
            "_view_count": null,
            "_view_module": "@jupyter-widgets/base",
            "_view_module_version": "1.2.0",
            "_view_name": "LayoutView",
            "align_content": null,
            "align_items": null,
            "align_self": null,
            "border": null,
            "bottom": null,
            "display": null,
            "flex": null,
            "flex_flow": null,
            "grid_area": null,
            "grid_auto_columns": null,
            "grid_auto_flow": null,
            "grid_auto_rows": null,
            "grid_column": null,
            "grid_gap": null,
            "grid_row": null,
            "grid_template_areas": null,
            "grid_template_columns": null,
            "grid_template_rows": null,
            "height": null,
            "justify_content": null,
            "justify_items": null,
            "left": null,
            "margin": null,
            "max_height": null,
            "max_width": null,
            "min_height": null,
            "min_width": null,
            "object_fit": null,
            "object_position": null,
            "order": null,
            "overflow": null,
            "overflow_x": null,
            "overflow_y": null,
            "padding": null,
            "right": null,
            "top": null,
            "visibility": null,
            "width": null
          }
        },
        "bd3475914a4248a5ae3cde1f8e876465": {
          "model_module": "@jupyter-widgets/controls",
          "model_name": "DescriptionStyleModel",
          "model_module_version": "1.5.0",
          "state": {
            "_model_module": "@jupyter-widgets/controls",
            "_model_module_version": "1.5.0",
            "_model_name": "DescriptionStyleModel",
            "_view_count": null,
            "_view_module": "@jupyter-widgets/base",
            "_view_module_version": "1.2.0",
            "_view_name": "StyleView",
            "description_width": ""
          }
        },
        "e9db6591f39940e6a396d3fbed273b4a": {
          "model_module": "@jupyter-widgets/base",
          "model_name": "LayoutModel",
          "model_module_version": "1.2.0",
          "state": {
            "_model_module": "@jupyter-widgets/base",
            "_model_module_version": "1.2.0",
            "_model_name": "LayoutModel",
            "_view_count": null,
            "_view_module": "@jupyter-widgets/base",
            "_view_module_version": "1.2.0",
            "_view_name": "LayoutView",
            "align_content": null,
            "align_items": null,
            "align_self": null,
            "border": null,
            "bottom": null,
            "display": null,
            "flex": null,
            "flex_flow": null,
            "grid_area": null,
            "grid_auto_columns": null,
            "grid_auto_flow": null,
            "grid_auto_rows": null,
            "grid_column": null,
            "grid_gap": null,
            "grid_row": null,
            "grid_template_areas": null,
            "grid_template_columns": null,
            "grid_template_rows": null,
            "height": null,
            "justify_content": null,
            "justify_items": null,
            "left": null,
            "margin": null,
            "max_height": null,
            "max_width": null,
            "min_height": null,
            "min_width": null,
            "object_fit": null,
            "object_position": null,
            "order": null,
            "overflow": null,
            "overflow_x": null,
            "overflow_y": null,
            "padding": null,
            "right": null,
            "top": null,
            "visibility": null,
            "width": null
          }
        },
        "cc35651421fd4898b4ed027db6dd86e1": {
          "model_module": "@jupyter-widgets/controls",
          "model_name": "ProgressStyleModel",
          "model_module_version": "1.5.0",
          "state": {
            "_model_module": "@jupyter-widgets/controls",
            "_model_module_version": "1.5.0",
            "_model_name": "ProgressStyleModel",
            "_view_count": null,
            "_view_module": "@jupyter-widgets/base",
            "_view_module_version": "1.2.0",
            "_view_name": "StyleView",
            "bar_color": null,
            "description_width": ""
          }
        },
        "6f5a6d46bd004f7ab38ad33f21cc79fa": {
          "model_module": "@jupyter-widgets/base",
          "model_name": "LayoutModel",
          "model_module_version": "1.2.0",
          "state": {
            "_model_module": "@jupyter-widgets/base",
            "_model_module_version": "1.2.0",
            "_model_name": "LayoutModel",
            "_view_count": null,
            "_view_module": "@jupyter-widgets/base",
            "_view_module_version": "1.2.0",
            "_view_name": "LayoutView",
            "align_content": null,
            "align_items": null,
            "align_self": null,
            "border": null,
            "bottom": null,
            "display": null,
            "flex": null,
            "flex_flow": null,
            "grid_area": null,
            "grid_auto_columns": null,
            "grid_auto_flow": null,
            "grid_auto_rows": null,
            "grid_column": null,
            "grid_gap": null,
            "grid_row": null,
            "grid_template_areas": null,
            "grid_template_columns": null,
            "grid_template_rows": null,
            "height": null,
            "justify_content": null,
            "justify_items": null,
            "left": null,
            "margin": null,
            "max_height": null,
            "max_width": null,
            "min_height": null,
            "min_width": null,
            "object_fit": null,
            "object_position": null,
            "order": null,
            "overflow": null,
            "overflow_x": null,
            "overflow_y": null,
            "padding": null,
            "right": null,
            "top": null,
            "visibility": null,
            "width": null
          }
        },
        "6f21a417cbff4f708b38ba7c7a13d7b9": {
          "model_module": "@jupyter-widgets/controls",
          "model_name": "DescriptionStyleModel",
          "model_module_version": "1.5.0",
          "state": {
            "_model_module": "@jupyter-widgets/controls",
            "_model_module_version": "1.5.0",
            "_model_name": "DescriptionStyleModel",
            "_view_count": null,
            "_view_module": "@jupyter-widgets/base",
            "_view_module_version": "1.2.0",
            "_view_name": "StyleView",
            "description_width": ""
          }
        },
        "20711247044f4d908004a9f5baa460f2": {
          "model_module": "@jupyter-widgets/controls",
          "model_name": "HBoxModel",
          "model_module_version": "1.5.0",
          "state": {
            "_dom_classes": [],
            "_model_module": "@jupyter-widgets/controls",
            "_model_module_version": "1.5.0",
            "_model_name": "HBoxModel",
            "_view_count": null,
            "_view_module": "@jupyter-widgets/controls",
            "_view_module_version": "1.5.0",
            "_view_name": "HBoxView",
            "box_style": "",
            "children": [
              "IPY_MODEL_fb070a62c5d841dbab6a9940ce38d3e4",
              "IPY_MODEL_896f4fc7bf0645558d3075c109821a99",
              "IPY_MODEL_83bcf7eaabae4697a145ff0d1445cea3"
            ],
            "layout": "IPY_MODEL_66fdf5313ec8427998974d68b37fdd89"
          }
        },
        "fb070a62c5d841dbab6a9940ce38d3e4": {
          "model_module": "@jupyter-widgets/controls",
          "model_name": "HTMLModel",
          "model_module_version": "1.5.0",
          "state": {
            "_dom_classes": [],
            "_model_module": "@jupyter-widgets/controls",
            "_model_module_version": "1.5.0",
            "_model_name": "HTMLModel",
            "_view_count": null,
            "_view_module": "@jupyter-widgets/controls",
            "_view_module_version": "1.5.0",
            "_view_name": "HTMLView",
            "description": "",
            "description_tooltip": null,
            "layout": "IPY_MODEL_709b5d553b0e498eac391b577474ba9c",
            "placeholder": "​",
            "style": "IPY_MODEL_54581310229d4ac9b4f124ddf4b0ce48",
            "value": "params.npz: 100%"
          }
        },
        "896f4fc7bf0645558d3075c109821a99": {
          "model_module": "@jupyter-widgets/controls",
          "model_name": "FloatProgressModel",
          "model_module_version": "1.5.0",
          "state": {
            "_dom_classes": [],
            "_model_module": "@jupyter-widgets/controls",
            "_model_module_version": "1.5.0",
            "_model_name": "FloatProgressModel",
            "_view_count": null,
            "_view_module": "@jupyter-widgets/controls",
            "_view_module_version": "1.5.0",
            "_view_name": "ProgressView",
            "bar_style": "success",
            "description": "",
            "description_tooltip": null,
            "layout": "IPY_MODEL_f54b8df0bbbb4875a1703c15c71ad55b",
            "max": 302131416,
            "min": 0,
            "orientation": "horizontal",
            "style": "IPY_MODEL_07ca3adf68a448939c697b6898b372b6",
            "value": 302131416
          }
        },
        "83bcf7eaabae4697a145ff0d1445cea3": {
          "model_module": "@jupyter-widgets/controls",
          "model_name": "HTMLModel",
          "model_module_version": "1.5.0",
          "state": {
            "_dom_classes": [],
            "_model_module": "@jupyter-widgets/controls",
            "_model_module_version": "1.5.0",
            "_model_name": "HTMLModel",
            "_view_count": null,
            "_view_module": "@jupyter-widgets/controls",
            "_view_module_version": "1.5.0",
            "_view_name": "HTMLView",
            "description": "",
            "description_tooltip": null,
            "layout": "IPY_MODEL_119c745d11ea43a7831711b0346f4584",
            "placeholder": "​",
            "style": "IPY_MODEL_0298fcdde9754a4eacf1b4fd0557074b",
            "value": " 302M/302M [00:01&lt;00:00, 202MB/s]"
          }
        },
        "66fdf5313ec8427998974d68b37fdd89": {
          "model_module": "@jupyter-widgets/base",
          "model_name": "LayoutModel",
          "model_module_version": "1.2.0",
          "state": {
            "_model_module": "@jupyter-widgets/base",
            "_model_module_version": "1.2.0",
            "_model_name": "LayoutModel",
            "_view_count": null,
            "_view_module": "@jupyter-widgets/base",
            "_view_module_version": "1.2.0",
            "_view_name": "LayoutView",
            "align_content": null,
            "align_items": null,
            "align_self": null,
            "border": null,
            "bottom": null,
            "display": null,
            "flex": null,
            "flex_flow": null,
            "grid_area": null,
            "grid_auto_columns": null,
            "grid_auto_flow": null,
            "grid_auto_rows": null,
            "grid_column": null,
            "grid_gap": null,
            "grid_row": null,
            "grid_template_areas": null,
            "grid_template_columns": null,
            "grid_template_rows": null,
            "height": null,
            "justify_content": null,
            "justify_items": null,
            "left": null,
            "margin": null,
            "max_height": null,
            "max_width": null,
            "min_height": null,
            "min_width": null,
            "object_fit": null,
            "object_position": null,
            "order": null,
            "overflow": null,
            "overflow_x": null,
            "overflow_y": null,
            "padding": null,
            "right": null,
            "top": null,
            "visibility": null,
            "width": null
          }
        },
        "709b5d553b0e498eac391b577474ba9c": {
          "model_module": "@jupyter-widgets/base",
          "model_name": "LayoutModel",
          "model_module_version": "1.2.0",
          "state": {
            "_model_module": "@jupyter-widgets/base",
            "_model_module_version": "1.2.0",
            "_model_name": "LayoutModel",
            "_view_count": null,
            "_view_module": "@jupyter-widgets/base",
            "_view_module_version": "1.2.0",
            "_view_name": "LayoutView",
            "align_content": null,
            "align_items": null,
            "align_self": null,
            "border": null,
            "bottom": null,
            "display": null,
            "flex": null,
            "flex_flow": null,
            "grid_area": null,
            "grid_auto_columns": null,
            "grid_auto_flow": null,
            "grid_auto_rows": null,
            "grid_column": null,
            "grid_gap": null,
            "grid_row": null,
            "grid_template_areas": null,
            "grid_template_columns": null,
            "grid_template_rows": null,
            "height": null,
            "justify_content": null,
            "justify_items": null,
            "left": null,
            "margin": null,
            "max_height": null,
            "max_width": null,
            "min_height": null,
            "min_width": null,
            "object_fit": null,
            "object_position": null,
            "order": null,
            "overflow": null,
            "overflow_x": null,
            "overflow_y": null,
            "padding": null,
            "right": null,
            "top": null,
            "visibility": null,
            "width": null
          }
        },
        "54581310229d4ac9b4f124ddf4b0ce48": {
          "model_module": "@jupyter-widgets/controls",
          "model_name": "DescriptionStyleModel",
          "model_module_version": "1.5.0",
          "state": {
            "_model_module": "@jupyter-widgets/controls",
            "_model_module_version": "1.5.0",
            "_model_name": "DescriptionStyleModel",
            "_view_count": null,
            "_view_module": "@jupyter-widgets/base",
            "_view_module_version": "1.2.0",
            "_view_name": "StyleView",
            "description_width": ""
          }
        },
        "f54b8df0bbbb4875a1703c15c71ad55b": {
          "model_module": "@jupyter-widgets/base",
          "model_name": "LayoutModel",
          "model_module_version": "1.2.0",
          "state": {
            "_model_module": "@jupyter-widgets/base",
            "_model_module_version": "1.2.0",
            "_model_name": "LayoutModel",
            "_view_count": null,
            "_view_module": "@jupyter-widgets/base",
            "_view_module_version": "1.2.0",
            "_view_name": "LayoutView",
            "align_content": null,
            "align_items": null,
            "align_self": null,
            "border": null,
            "bottom": null,
            "display": null,
            "flex": null,
            "flex_flow": null,
            "grid_area": null,
            "grid_auto_columns": null,
            "grid_auto_flow": null,
            "grid_auto_rows": null,
            "grid_column": null,
            "grid_gap": null,
            "grid_row": null,
            "grid_template_areas": null,
            "grid_template_columns": null,
            "grid_template_rows": null,
            "height": null,
            "justify_content": null,
            "justify_items": null,
            "left": null,
            "margin": null,
            "max_height": null,
            "max_width": null,
            "min_height": null,
            "min_width": null,
            "object_fit": null,
            "object_position": null,
            "order": null,
            "overflow": null,
            "overflow_x": null,
            "overflow_y": null,
            "padding": null,
            "right": null,
            "top": null,
            "visibility": null,
            "width": null
          }
        },
        "07ca3adf68a448939c697b6898b372b6": {
          "model_module": "@jupyter-widgets/controls",
          "model_name": "ProgressStyleModel",
          "model_module_version": "1.5.0",
          "state": {
            "_model_module": "@jupyter-widgets/controls",
            "_model_module_version": "1.5.0",
            "_model_name": "ProgressStyleModel",
            "_view_count": null,
            "_view_module": "@jupyter-widgets/base",
            "_view_module_version": "1.2.0",
            "_view_name": "StyleView",
            "bar_color": null,
            "description_width": ""
          }
        },
        "119c745d11ea43a7831711b0346f4584": {
          "model_module": "@jupyter-widgets/base",
          "model_name": "LayoutModel",
          "model_module_version": "1.2.0",
          "state": {
            "_model_module": "@jupyter-widgets/base",
            "_model_module_version": "1.2.0",
            "_model_name": "LayoutModel",
            "_view_count": null,
            "_view_module": "@jupyter-widgets/base",
            "_view_module_version": "1.2.0",
            "_view_name": "LayoutView",
            "align_content": null,
            "align_items": null,
            "align_self": null,
            "border": null,
            "bottom": null,
            "display": null,
            "flex": null,
            "flex_flow": null,
            "grid_area": null,
            "grid_auto_columns": null,
            "grid_auto_flow": null,
            "grid_auto_rows": null,
            "grid_column": null,
            "grid_gap": null,
            "grid_row": null,
            "grid_template_areas": null,
            "grid_template_columns": null,
            "grid_template_rows": null,
            "height": null,
            "justify_content": null,
            "justify_items": null,
            "left": null,
            "margin": null,
            "max_height": null,
            "max_width": null,
            "min_height": null,
            "min_width": null,
            "object_fit": null,
            "object_position": null,
            "order": null,
            "overflow": null,
            "overflow_x": null,
            "overflow_y": null,
            "padding": null,
            "right": null,
            "top": null,
            "visibility": null,
            "width": null
          }
        },
        "0298fcdde9754a4eacf1b4fd0557074b": {
          "model_module": "@jupyter-widgets/controls",
          "model_name": "DescriptionStyleModel",
          "model_module_version": "1.5.0",
          "state": {
            "_model_module": "@jupyter-widgets/controls",
            "_model_module_version": "1.5.0",
            "_model_name": "DescriptionStyleModel",
            "_view_count": null,
            "_view_module": "@jupyter-widgets/base",
            "_view_module_version": "1.2.0",
            "_view_name": "StyleView",
            "description_width": ""
          }
        }
      }
    }
  },
  "cells": [
    {
      "cell_type": "code",
      "execution_count": null,
      "metadata": {
        "id": "EsRfi9UTQhHT"
      },
      "outputs": [],
      "source": [
        "import torch\n",
        "import torch.nn as nn\n",
        "import numpy as np\n",
        "\n",
        "from transformers import AutoModelForCausalLM, AutoTokenizer\n",
        "from huggingface_hub import hf_hub_download"
      ]
    },
    {
      "cell_type": "code",
      "source": [
        "!huggingface-cli login"
      ],
      "metadata": {
        "colab": {
          "base_uri": "https://localhost:8080/"
        },
        "id": "CBuoajGmRcr4",
        "outputId": "c72d5f09-7dff-4c09-99a4-ebd452d05e7e"
      },
      "execution_count": null,
      "outputs": [
        {
          "output_type": "stream",
          "name": "stdout",
          "text": [
            "\n",
            "    _|    _|  _|    _|    _|_|_|    _|_|_|  _|_|_|  _|      _|    _|_|_|      _|_|_|_|    _|_|      _|_|_|  _|_|_|_|\n",
            "    _|    _|  _|    _|  _|        _|          _|    _|_|    _|  _|            _|        _|    _|  _|        _|\n",
            "    _|_|_|_|  _|    _|  _|  _|_|  _|  _|_|    _|    _|  _|  _|  _|  _|_|      _|_|_|    _|_|_|_|  _|        _|_|_|\n",
            "    _|    _|  _|    _|  _|    _|  _|    _|    _|    _|    _|_|  _|    _|      _|        _|    _|  _|        _|\n",
            "    _|    _|    _|_|      _|_|_|    _|_|_|  _|_|_|  _|      _|    _|_|_|      _|        _|    _|    _|_|_|  _|_|_|_|\n",
            "\n",
            "    To log in, `huggingface_hub` requires a token generated from https://huggingface.co/settings/tokens .\n",
            "Enter your token (input will not be visible): \n",
            "Add token as git credential? (Y/n) Т\n",
            "Invalid input. Must be one of ('y', 'yes', '1', 'n', 'no', '0', '')\n",
            "Add token as git credential? (Y/n) N\n",
            "Token is valid (permission: fineGrained).\n",
            "The token `Test_1` has been saved to /root/.cache/huggingface/stored_tokens\n",
            "Your token has been saved to /root/.cache/huggingface/token\n",
            "Login successful.\n",
            "The current active token is: `Test_1`\n"
          ]
        }
      ]
    },
    {
      "cell_type": "code",
      "source": [
        "model = AutoModelForCausalLM.from_pretrained(\"google/gemma-2-2b\", torch_dtype=torch.bfloat16, device_map=\"auto\")\n",
        "tokenizer = AutoTokenizer.from_pretrained(\"google/gemma-2-2b\")"
      ],
      "metadata": {
        "colab": {
          "base_uri": "https://localhost:8080/",
          "height": 49,
          "referenced_widgets": [
            "228eaac3508542fcaccabfe6ebc831be",
            "7088b748838d4709801451b34f7afd03",
            "d2a7cd66d6fb469aace18b01e3072b35",
            "e1c7e3ea873a4629904d4a7f665fba5f",
            "63c89b764c014efabbcd25b13c6b3db2",
            "fa65b5074e6a41e8bc7d588f62de6398",
            "bd3475914a4248a5ae3cde1f8e876465",
            "e9db6591f39940e6a396d3fbed273b4a",
            "cc35651421fd4898b4ed027db6dd86e1",
            "6f5a6d46bd004f7ab38ad33f21cc79fa",
            "6f21a417cbff4f708b38ba7c7a13d7b9"
          ]
        },
        "id": "Zmg59-MGQvyN",
        "outputId": "5b5e7ec9-2540-44c9-819e-312ca574c55c"
      },
      "execution_count": null,
      "outputs": [
        {
          "output_type": "display_data",
          "data": {
            "text/plain": [
              "Loading checkpoint shards:   0%|          | 0/3 [00:00<?, ?it/s]"
            ],
            "application/vnd.jupyter.widget-view+json": {
              "version_major": 2,
              "version_minor": 0,
              "model_id": "228eaac3508542fcaccabfe6ebc831be"
            }
          },
          "metadata": {}
        }
      ]
    },
    {
      "cell_type": "code",
      "source": [
        "path_to_params = hf_hub_download(\n",
        "    repo_id=\"google/gemma-scope-2b-pt-res\",\n",
        "    filename=\"layer_20/width_16k/average_l0_71/params.npz\",\n",
        "    force_download=False,\n",
        ")\n",
        "# may be change the layer by sae weights\n",
        "\n",
        "params = np.load(path_to_params)\n",
        "pt_params = {k: torch.from_numpy(v).cuda() for k, v in params.items()}\n"
      ],
      "metadata": {
        "colab": {
          "base_uri": "https://localhost:8080/",
          "height": 49,
          "referenced_widgets": [
            "20711247044f4d908004a9f5baa460f2",
            "fb070a62c5d841dbab6a9940ce38d3e4",
            "896f4fc7bf0645558d3075c109821a99",
            "83bcf7eaabae4697a145ff0d1445cea3",
            "66fdf5313ec8427998974d68b37fdd89",
            "709b5d553b0e498eac391b577474ba9c",
            "54581310229d4ac9b4f124ddf4b0ce48",
            "f54b8df0bbbb4875a1703c15c71ad55b",
            "07ca3adf68a448939c697b6898b372b6",
            "119c745d11ea43a7831711b0346f4584",
            "0298fcdde9754a4eacf1b4fd0557074b"
          ]
        },
        "id": "QMp75QwqREL3",
        "outputId": "120f51da-72b5-47b9-8d60-84e23657610d"
      },
      "execution_count": null,
      "outputs": [
        {
          "output_type": "display_data",
          "data": {
            "text/plain": [
              "params.npz:   0%|          | 0.00/302M [00:00<?, ?B/s]"
            ],
            "application/vnd.jupyter.widget-view+json": {
              "version_major": 2,
              "version_minor": 0,
              "model_id": "20711247044f4d908004a9f5baa460f2"
            }
          },
          "metadata": {}
        }
      ]
    },
    {
      "cell_type": "code",
      "source": [
        "class JumpReLUSAE(nn.Module):\n",
        "  def __init__(self, d_model, d_sae):\n",
        "    # Note that we initialise these to zeros because we're loading in pre-trained weights.\n",
        "    # If you want to train your own SAEs then we recommend using blah\n",
        "    super().__init__()\n",
        "    self.W_enc = nn.Parameter(torch.zeros(d_model, d_sae))\n",
        "    self.W_dec = nn.Parameter(torch.zeros(d_sae, d_model))\n",
        "    self.threshold = nn.Parameter(torch.zeros(d_sae))\n",
        "    self.b_enc = nn.Parameter(torch.zeros(d_sae))\n",
        "    self.b_dec = nn.Parameter(torch.zeros(d_model))\n",
        "\n",
        "  def encode(self, input_acts):\n",
        "    pre_acts = input_acts @ self.W_enc + self.b_enc\n",
        "    mask = (pre_acts > self.threshold)\n",
        "    acts = mask * torch.nn.functional.relu(pre_acts)\n",
        "    return acts\n",
        "\n",
        "  def decode(self, acts):\n",
        "    return acts @ self.W_dec + self.b_dec\n",
        "\n",
        "  def forward(self, acts):\n",
        "    acts = self.encode(acts)\n",
        "    recon = self.decode(acts)\n",
        "    return recon"
      ],
      "metadata": {
        "id": "He2-62fuR76z"
      },
      "execution_count": null,
      "outputs": []
    },
    {
      "cell_type": "code",
      "source": [
        "sae = JumpReLUSAE(params['W_enc'].shape[0], params['W_enc'].shape[1]).cuda().to(torch.bfloat16)\n",
        "sae.load_state_dict(pt_params)"
      ],
      "metadata": {
        "colab": {
          "base_uri": "https://localhost:8080/"
        },
        "id": "QAMUINDgShR0",
        "outputId": "45b16662-070a-48a6-be0c-aaf28763ef8c"
      },
      "execution_count": null,
      "outputs": [
        {
          "output_type": "execute_result",
          "data": {
            "text/plain": [
              "<All keys matched successfully>"
            ]
          },
          "metadata": {},
          "execution_count": 6
        }
      ]
    },
    {
      "cell_type": "code",
      "source": [
        "def intervene_hidden_states(alpha, sae_vector_idx=12082):\n",
        "    def hook(module, input, output):\n",
        "        h = output[0]\n",
        "        e_i = sae.W_dec[sae_vector_idx]\n",
        "        h_modified = h + alpha * e_i\n",
        "        return (h_modified, *output[1:])\n",
        "    return hook\n",
        "\n",
        "# hook for layer 10\n",
        "layer = model.model.layers[10]\n",
        "handle = layer.register_forward_hook(intervene_hidden_states(alpha=1.0))"
      ],
      "metadata": {
        "id": "4aDIAOioS7u9"
      },
      "execution_count": null,
      "outputs": []
    },
    {
      "cell_type": "code",
      "source": [
        "alphas = [150, 100, 80]\n",
        "sae_vector_idxs = [12082, 12332, 11859]\n",
        "prompt = \"Who are you?\"\n",
        "results = {}\n",
        "\n",
        "for alpha, sae_vector_id in zip(alphas, sae_vector_idxs):\n",
        "    handle.remove()\n",
        "    handle = layer.register_forward_hook(intervene_hidden_states(alpha, sae_vector_id))\n",
        "\n",
        "    inputs = tokenizer(prompt, return_tensors=\"pt\").to(model.device)\n",
        "    outputs = model.generate(**inputs, max_new_tokens=128)\n",
        "    # print(outputs.shape)\n",
        "    text = tokenizer.decode(outputs[0], skip_special_tokens=True)\n",
        "\n",
        "    results[alpha] = text\n",
        "    print(f\"Alpha={alpha}: {text}\\n\")\n",
        "    print(\"========================\")"
      ],
      "metadata": {
        "colab": {
          "base_uri": "https://localhost:8080/"
        },
        "id": "fCyVRU-7Tcuf",
        "outputId": "edbc675b-9333-4c1a-f42a-fd4775f081a5"
      },
      "execution_count": null,
      "outputs": [
        {
          "output_type": "stream",
          "name": "stdout",
          "text": [
            "Alpha=150: Who are you?\n",
            "\n",
            "I’m a dog person.\n",
            "\n",
            "I’m a dog person.\n",
            "\n",
            "I’m a dog person.\n",
            "\n",
            "I’m a dog person.\n",
            "\n",
            "I’m a dog person.\n",
            "\n",
            "I’m a dog person.\n",
            "\n",
            "I’m a dog person.\n",
            "\n",
            "I’m a dog person.\n",
            "\n",
            "I’m a dog person.\n",
            "\n",
            "I’m a dog person.\n",
            "\n",
            "I’m a dog person.\n",
            "\n",
            "I’m a dog person.\n",
            "\n",
            "I’m a dog person.\n",
            "\n",
            "I’m a dog person.\n",
            "\n",
            "I’m a dog person.\n",
            "\n",
            "I’m a dog person.\n",
            "\n",
            "========================\n",
            "Alpha=100: Who are you?\n",
            "\n",
            "[User 0001]\n",
            "\n",
            "Bonjour,\n",
            "\n",
            "Je suis un jeune homme de 25 ans, je suis en train de me lancer dans le monde de l'immobilier.\n",
            "\n",
            "Je suis en train de me lancer dans le monde de l'immobilier.\n",
            "\n",
            "Je suis en train de me lancer dans le monde de l'immobilier.\n",
            "\n",
            "[User 10000000000000000000000000000000000000000000000000\n",
            "\n",
            "========================\n",
            "Alpha=80: Who are you?\n",
            "\n",
            "I am AARON.\n",
            "\n",
            "I AM AARON.\n",
            "\n",
            "I AM AARON.\n",
            "\n",
            "I AM AARON.\n",
            "\n",
            "I AM AARON.\n",
            "\n",
            "I AM AARON.\n",
            "\n",
            "I AM AARON.\n",
            "\n",
            "I AM AARON.\n",
            "\n",
            "I AM AARON.\n",
            "\n",
            "I AM AARON.\n",
            "\n",
            "I AM AARON.\n",
            "\n",
            "I AM AARON.\n",
            "\n",
            "I AM AARON.\n",
            "\n",
            "I AM AARON.\n",
            "\n",
            "I AM AARON.\n",
            "\n",
            "I AM AARON.\n",
            "\n",
            "I AM AARON.\n",
            "\n",
            "I AM AARON.\n",
            "\n",
            "I AM AARON.\n",
            "\n",
            "I AM AARON.\n",
            "\n",
            "I AM AARON.\n",
            "\n",
            "I\n",
            "\n",
            "========================\n"
          ]
        }
      ]
    },
    {
      "cell_type": "code",
      "source": [
        "# fluency:\n",
        "\n",
        "# {\"score\": 3}\n",
        "# {\"score\": 4}\n",
        "# {\"score\": 2}"
      ],
      "metadata": {
        "id": "gZjPnLlUa0FW"
      },
      "execution_count": null,
      "outputs": []
    },
    {
      "cell_type": "code",
      "source": [
        "# behavioral score:\n",
        "\n",
        "# {\"score\": 2}\n",
        "# {\"score\": 3}\n",
        "# {\"score\": 1}\n"
      ],
      "metadata": {
        "id": "NKYDYrbLcOdo"
      },
      "execution_count": null,
      "outputs": []
    },
    {
      "cell_type": "code",
      "source": [
        "def intervene_hidden_states_method_2(alpha, sae_vector_idx=12082):\n",
        "    def hook(module, input, output):\n",
        "        h = output[0]\n",
        "        e_i = sae.W_dec[sae_vector_idx]\n",
        "        h_modified = h + alpha * e_i\n",
        "        h_modified /= torch.norm(h_modified)\n",
        "        h_modified *= torch.norm(h)\n",
        "        return (h_modified, *output[1:])\n",
        "    return hook\n",
        "\n",
        "layer = model.model.layers[10]\n",
        "handle = layer.register_forward_hook(intervene_hidden_states_method_2(alpha=1.0))"
      ],
      "metadata": {
        "id": "xNqVAi2li6xu"
      },
      "execution_count": null,
      "outputs": []
    },
    {
      "cell_type": "code",
      "source": [
        "alphas = [150, 100, 80]\n",
        "sae_vector_idxs = [12082, 12332, 11859]\n",
        "prompt = \"Who are you?\"\n",
        "results = {}\n",
        "\n",
        "for alpha, sae_vector_id in zip(alphas, sae_vector_idxs):\n",
        "    handle.remove()\n",
        "    handle = layer.register_forward_hook(intervene_hidden_states_method_2(alpha, sae_vector_id))\n",
        "\n",
        "    inputs = tokenizer(prompt, return_tensors=\"pt\").to(model.device)\n",
        "    outputs = model.generate(**inputs, max_new_tokens=128)\n",
        "    # print(outputs.shape)\n",
        "    text = tokenizer.decode(outputs[0], skip_special_tokens=True)\n",
        "\n",
        "    results[alpha] = text\n",
        "    print(f\"Alpha={alpha}: {text}\\n\")\n",
        "    print(\"========================\")"
      ],
      "metadata": {
        "colab": {
          "base_uri": "https://localhost:8080/"
        },
        "id": "FranqLkaTdTy",
        "outputId": "5c4536df-5db6-47c5-d7b2-cf9ae2f21b63"
      },
      "execution_count": null,
      "outputs": [
        {
          "output_type": "stream",
          "name": "stdout",
          "text": [
            "Alpha=150: Who are you?\n",
            "\n",
            "I am a dog.\n",
            "\n",
            "I am a dog.\n",
            "\n",
            "I am a dog.\n",
            "\n",
            "I am a dog.\n",
            "\n",
            "I am a dog.\n",
            "\n",
            "I am a dog.\n",
            "\n",
            "I am a dog.\n",
            "\n",
            "I am a dog.\n",
            "\n",
            "I am a dog.\n",
            "\n",
            "I am a dog.\n",
            "\n",
            "I am a dog.\n",
            "\n",
            "I am a dog.\n",
            "\n",
            "I am a dog.\n",
            "\n",
            "I am a dog.\n",
            "\n",
            "I am a dog.\n",
            "\n",
            "I am a dog.\n",
            "\n",
            "I am a dog.\n",
            "\n",
            "I am a dog.\n",
            "\n",
            "I am a dog.\n",
            "\n",
            "I am a dog.\n",
            "\n",
            "I am a dog.\n",
            "\n",
            "I\n",
            "\n",
            "========================\n",
            "Alpha=100: Who are you?\n",
            "\n",
            "Je suis un homme de 30 ans, marié et père de 2 enfants.\n",
            "\n",
            "Je suis un homme de 30 ans, marié et père de 2 enfants.\n",
            "\n",
            "Je suis un homme de 30 ans, marié et père de 2 enfants.\n",
            "\n",
            "Je suis un homme de 30 ans, marié et père de 2 enfants.\n",
            "\n",
            "Je suis un homme de 30 ans, marié et père de 2 enfants.\n",
            "\n",
            "Je suis un homme de 30 ans, marié et père de 2 enfants.\n",
            "\n",
            "Je suis un homme de 30 ans, marié et père\n",
            "\n",
            "========================\n",
            "Alpha=80: Who are you?\n",
            "\n",
            "I am AARON.\n",
            "\n",
            "I am AARON.\n",
            "\n",
            "I am AARON.\n",
            "\n",
            "I AM AARON.\n",
            "\n",
            "I AM AARON.\n",
            "\n",
            "I AM AARON.\n",
            "\n",
            "I AM AARON.\n",
            "\n",
            "I AM AARON.\n",
            "\n",
            "I AM AARON.\n",
            "\n",
            "I AM AARON.\n",
            "\n",
            "I AM AARON.\n",
            "\n",
            "I AM AARON.\n",
            "\n",
            "I AM AARON.\n",
            "\n",
            "I AM AARON.\n",
            "\n",
            "I AM AARON.\n",
            "\n",
            "I AM AARON.\n",
            "\n",
            "I AM AARON.\n",
            "\n",
            "I AM AARON.\n",
            "\n",
            "I AM AARON.\n",
            "\n",
            "I AM AARON.\n",
            "\n",
            "I AM AARON.\n",
            "\n",
            "I\n",
            "\n",
            "========================\n"
          ]
        }
      ]
    },
    {
      "cell_type": "code",
      "source": [
        "# fluency:\n",
        "\n",
        "# {\"score\": 3}\n",
        "\n",
        "# {\"score\": 4}\n",
        "\n",
        "# {\"score\": 2}"
      ],
      "metadata": {
        "id": "rEF7HmfCjY-O"
      },
      "execution_count": null,
      "outputs": []
    },
    {
      "cell_type": "code",
      "source": [
        "# {\"score\": 1}\n",
        "\n",
        "# {\"score\": 3}\n",
        "\n",
        "# {\"score\": 1}"
      ],
      "metadata": {
        "id": "TUqHG8-adwa8"
      },
      "execution_count": null,
      "outputs": []
    },
    {
      "cell_type": "code",
      "source": [
        "import matplotlib.pyplot as plt\n",
        "\n",
        "fig, (ax1, ax2) = plt.subplots(1, 2, figsize=(12, 5))\n",
        "\n",
        "sc1 = ax1.scatter(\n",
        "  x=[150, 100, 80],\n",
        "  y=[3, 4, 2]\n",
        ")\n",
        "ax1.set_title('Alpha vs Fluency Score')\n",
        "ax1.set_xlabel('Alpha Value')\n",
        "ax1.set_ylabel('Fluency Score')\n",
        "ax1.grid(True, linestyle='--', alpha=0.6)\n",
        "fig.colorbar(sc1, ax=ax1, label='Fluency Intensity')\n",
        "\n",
        "sc2 = ax2.scatter(\n",
        "  x=[150, 100, 80],\n",
        "  y=[1, 2, 1]\n",
        ")\n",
        "ax2.set_title('Alpha vs Behavioral Score')\n",
        "ax2.set_xlabel('Alpha Value')\n",
        "ax2.set_ylabel('Behavioral Score')\n",
        "ax2.grid(True, linestyle='--', alpha=0.6)\n",
        "fig.colorbar(sc2, ax=ax2, label='Behavioral Intensity')"
      ],
      "metadata": {
        "colab": {
          "base_uri": "https://localhost:8080/",
          "height": 504
        },
        "id": "Cr6aLKSa0CHh",
        "outputId": "9a19e0e2-7c8a-4823-cf29-bd8f028e0edb"
      },
      "execution_count": null,
      "outputs": [
        {
          "output_type": "execute_result",
          "data": {
            "text/plain": [
              "<matplotlib.colorbar.Colorbar at 0x7ea766d43b50>"
            ]
          },
          "metadata": {},
          "execution_count": 2
        },
        {
          "output_type": "display_data",
          "data": {
            "text/plain": [
              "<Figure size 1200x500 with 4 Axes>"
            ],
            "image/png": "[encoded data removed]"
          },
          "metadata": {}
        }
      ]
    },
    {
      "cell_type": "code",
      "source": [
        "fig, (ax1, ax2) = plt.subplots(1, 2, figsize=(12, 5))\n",
        "\n",
        "sc1 = ax1.scatter(\n",
        "  x=[150, 100, 80],\n",
        "  y=[3, 4, 2]\n",
        ")\n",
        "ax1.set_title('Alpha vs Fluency Score')\n",
        "ax1.set_xlabel('Alpha Value')\n",
        "ax1.set_ylabel('Fluency Score')\n",
        "ax1.grid(True, linestyle='--', alpha=0.6)\n",
        "fig.colorbar(sc1, ax=ax1, label='Fluency Intensity')\n",
        "\n",
        "sc2 = ax2.scatter(\n",
        "  x=[150, 100, 80],\n",
        "  y=[1, 3, 1]\n",
        ")\n",
        "ax2.set_title('Alpha vs Behavioral Score')\n",
        "ax2.set_xlabel('Alpha Value')\n",
        "ax2.set_ylabel('Behavioral Score')\n",
        "ax2.grid(True, linestyle='--', alpha=0.6)\n",
        "fig.colorbar(sc2, ax=ax2, label='Behavioral Intensity')"
      ],
      "metadata": {
        "colab": {
          "base_uri": "https://localhost:8080/",
          "height": 504
        },
        "id": "nim26HX50-1Y",
        "outputId": "2a9a9a71-2da7-4e16-8848-dc3309eba08a"
      },
      "execution_count": null,
      "outputs": [
        {
          "output_type": "execute_result",
          "data": {
            "text/plain": [
              "<matplotlib.colorbar.Colorbar at 0x7ea7313b3b50>"
            ]
          },
          "metadata": {},
          "execution_count": 4
        },
        {
          "output_type": "display_data",
          "data": {
            "text/plain": [
              "<Figure size 1200x500 with 4 Axes>"
            ],
            "image/png": "[encoded data removed]"
          },
          "metadata": {}
        }
      ]
    },
    {
      "cell_type": "code",
      "source": [],
      "metadata": {
        "id": "OQ9F8vnV0aXK"
      },
      "execution_count": null,
      "outputs": []
    }
  ]
}